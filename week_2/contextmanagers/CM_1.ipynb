{
 "cells": [
  {
   "cell_type": "code",
   "execution_count": 1,
   "metadata": {},
   "outputs": [
    {
     "name": "stdout",
     "output_type": "stream",
     "text": [
      "hello world\n"
     ]
    }
   ],
   "source": [
    "print(\"hello world\")"
   ]
  },
  {
   "cell_type": "markdown",
   "metadata": {},
   "source": [
    "# Context Managers."
   ]
  },
  {
   "cell_type": "markdown",
   "metadata": {},
   "source": [
    "Context managers in Python provide a convenient way for managing resources such as files, database connections, locks, and more, ensuring that resources are properly allocated and released, even in the face of exceptions or errors. They are typically used with the with statement and can be implemented using classes or generator functions.\n",
    "\n",
    "    Using Classes as Context Managers:\n",
    "\n",
    "    You can create a context manager by defining a class with __enter__ and __exit__ methods. The __enter__ method sets up the resources, and the __exit__ method cleans up the resources when exiting the with block."
   ]
  },
  {
   "cell_type": "code",
   "execution_count": 2,
   "metadata": {},
   "outputs": [],
   "source": [
    "class FileManager:\n",
    "    def __init__(self, filename, mode):\n",
    "        self.filename = filename\n",
    "        self.mode = mode\n",
    "\n",
    "    def __enter__(self):\n",
    "        self.file = open(self.filename, self.mode)\n",
    "        return self.file\n",
    "\n",
    "    def __exit__(self, exc_type, exc_value, traceback):\n",
    "        self.file.close()\n",
    "\n"
   ]
  },
  {
   "cell_type": "code",
   "execution_count": 3,
   "metadata": {},
   "outputs": [],
   "source": [
    "# Using the context manager\n",
    "with FileManager('example.txt', 'w') as f:\n",
    "    f.write('Hello, context managers!')\n"
   ]
  },
  {
   "cell_type": "markdown",
   "metadata": {},
   "source": [
    "Using Generator Functions as Context Managers (using contextlib):\n",
    "\n",
    "Python's contextlib module provides utilities for working with context managers. You can use the contextlib.contextmanager decorator to create a context manager using a generator function."
   ]
  },
  {
   "cell_type": "code",
   "execution_count": 4,
   "metadata": {},
   "outputs": [],
   "source": [
    "from contextlib import contextmanager\n",
    "\n",
    "@contextmanager\n",
    "def file_manager(filename, mode):\n",
    "    file = open(filename, mode)\n",
    "    try:\n",
    "        yield file\n",
    "    finally:\n",
    "        file.close()\n"
   ]
  },
  {
   "cell_type": "code",
   "execution_count": 5,
   "metadata": {},
   "outputs": [],
   "source": [
    "\n",
    "# Using the context manager\n",
    "with file_manager('example.txt', 'w') as f:\n",
    "    f.write('Hello, context managers!')\n"
   ]
  },
  {
   "cell_type": "markdown",
   "metadata": {},
   "source": [
    "Both examples achieve the same goal of managing file resources safely. The context manager automatically closes the file after the with block, regardless of whether an exception occurs or not. This ensures resource cleanup and prevents resource leaks in your Python code."
   ]
  },
  {
   "cell_type": "markdown",
   "metadata": {},
   "source": [
    "# Context managers using Classes."
   ]
  },
  {
   "cell_type": "markdown",
   "metadata": {},
   "source": [
    "we will create a context manager to measure the time taken by a block of code using the time module:\n"
   ]
  },
  {
   "cell_type": "code",
   "execution_count": 6,
   "metadata": {},
   "outputs": [],
   "source": [
    "import time\n",
    "\n"
   ]
  },
  {
   "cell_type": "code",
   "execution_count": 7,
   "metadata": {},
   "outputs": [],
   "source": [
    "class Timer:\n",
    "    def __enter__(self):\n",
    "        self.start_time = time.time()\n",
    "        return self  # Return an instance of the Timer class\n",
    "\n",
    "    def __exit__(self, exc_type, exc_value, traceback):\n",
    "        self.end_time = time.time()\n",
    "        elapsed_time = self.end_time - self.start_time\n",
    "        print(f\"Elapsed time: {elapsed_time:.4f} seconds\")\n",
    "\n"
   ]
  },
  {
   "cell_type": "code",
   "execution_count": 8,
   "metadata": {},
   "outputs": [
    {
     "name": "stdout",
     "output_type": "stream",
     "text": [
      "Elapsed time: 2.0006 seconds\n"
     ]
    }
   ],
   "source": [
    "# Using the context manager to measure time\n",
    "with Timer() as timer:\n",
    "    # Simulating some time-consuming task\n",
    "    time.sleep(2)\n"
   ]
  },
  {
   "cell_type": "code",
   "execution_count": 13,
   "metadata": {},
   "outputs": [
    {
     "name": "stdout",
     "output_type": "stream",
     "text": [
      "The sum of 7898654 numbers is: 31194371455185\n",
      "The sum of 7,898,654 numbers is: 31,194,371,455,185\n",
      "Elapsed time: 5.6437 seconds\n"
     ]
    }
   ],
   "source": [
    "# Using the context manager to measure time\n",
    "with Timer() as timer:\n",
    "\n",
    "    def sum_of_numbers(n):\n",
    "        total_sum = 0\n",
    "        for i in range(1, n + 1):\n",
    "            total_sum += i\n",
    "        return total_sum\n",
    "    n = int(input(\"Enter the number of numbers you want to sum: \"))\n",
    "    result = sum_of_numbers(n)\n",
    "    print(f\"The sum of {n} numbers is: {result}\")\n",
    "    print(f\"The sum of {n:,} numbers is: {result:,}\")\n",
    "\n"
   ]
  },
  {
   "cell_type": "markdown",
   "metadata": {},
   "source": [
    "    We define a function sum_of_numbers that takes the number of numbers n as input.\n",
    "    We initialize a variable total_sum to store the cumulative sum.\n",
    "    We use a for loop to iterate n times, asking the user to input each number and adding it to total_sum.\n",
    "    Finally, we print the total sum of the numbers entered by the user.\n",
    "\n",
    "You can run this program, enter the number of numbers you want to sum, and then enter each number one by one. The program will calculate and display the sum of those numbers"
   ]
  },
  {
   "cell_type": "code",
   "execution_count": null,
   "metadata": {},
   "outputs": [],
   "source": []
  }
 ],
 "metadata": {
  "kernelspec": {
   "display_name": "venv",
   "language": "python",
   "name": "python3"
  },
  "language_info": {
   "codemirror_mode": {
    "name": "ipython",
    "version": 3
   },
   "file_extension": ".py",
   "mimetype": "text/x-python",
   "name": "python",
   "nbconvert_exporter": "python",
   "pygments_lexer": "ipython3",
   "version": "3.12.2"
  }
 },
 "nbformat": 4,
 "nbformat_minor": 2
}

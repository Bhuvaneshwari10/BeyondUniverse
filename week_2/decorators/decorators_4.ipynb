{
 "cells": [
  {
   "cell_type": "code",
   "execution_count": 1,
   "metadata": {},
   "outputs": [
    {
     "name": "stdout",
     "output_type": "stream",
     "text": [
      "hello world\n"
     ]
    }
   ],
   "source": [
    "print(\"hello world\")"
   ]
  },
  {
   "cell_type": "markdown",
   "metadata": {},
   "source": [
    "### A decorator for subtraction function, if the second value is greater, then it has to swap the values, that means , we are going to find the differrence between two numbers."
   ]
  },
  {
   "cell_type": "code",
   "execution_count": 6,
   "metadata": {},
   "outputs": [],
   "source": [
    "# def prevent_negative_result(func):\n",
    "#     def wrapper(num1, num2):\n",
    "#         result = func(num1, num2)\n",
    "#         if result < 0:\n",
    "#             print(\"Error: Result is negative, returning 0 instead.\")\n",
    "#             return 0\n",
    "#         else:\n",
    "#             return result\n",
    "#     return wrapper\n",
    "\n"
   ]
  },
  {
   "cell_type": "code",
   "execution_count": 7,
   "metadata": {},
   "outputs": [],
   "source": [
    "def prevent_negative_result(func):\n",
    "    def wrapper(num1, num2):\n",
    "        if num2 > num1:\n",
    "            num1, num2 = num2, num1  # Swap values\n",
    "        return func(num1, num2)\n",
    "    return wrapper"
   ]
  },
  {
   "cell_type": "code",
   "execution_count": 8,
   "metadata": {},
   "outputs": [],
   "source": [
    "@prevent_negative_result\n",
    "def subtract_numbers(num1, num2):\n",
    "    return num1 - num2\n",
    "\n"
   ]
  },
  {
   "cell_type": "code",
   "execution_count": 9,
   "metadata": {},
   "outputs": [
    {
     "name": "stdout",
     "output_type": "stream",
     "text": [
      "Result 1: 5\n"
     ]
    }
   ],
   "source": [
    "# Example usage:\n",
    "result1 = subtract_numbers(10, 5)\n",
    "print(\"Result 1:\", result1)  # Result 1: 5\n",
    "\n"
   ]
  },
  {
   "cell_type": "code",
   "execution_count": 10,
   "metadata": {},
   "outputs": [
    {
     "name": "stdout",
     "output_type": "stream",
     "text": [
      "Result 2: 5\n"
     ]
    }
   ],
   "source": [
    "result2 = subtract_numbers(5, 10)\n",
    "print(\"Result 2:\", result2)  # Result 2: Error message printed and result set to 0\n"
   ]
  },
  {
   "cell_type": "markdown",
   "metadata": {},
   "source": [
    "    swap_values is the decorator function that checks if the second value is greater than the first one and swaps them if needed before calling the decorated function.\n",
    "    subtract_numbers is the decorated function that performs subtraction.\n",
    "\n",
    "When subtract_numbers is called, it checks if the second value is greater than the first one. If so, it swaps the values before performing the subtraction operation. This ensures that the result is always the absolute difference between the two values, regardless of their order."
   ]
  }
 ],
 "metadata": {
  "kernelspec": {
   "display_name": "venv",
   "language": "python",
   "name": "python3"
  },
  "language_info": {
   "codemirror_mode": {
    "name": "ipython",
    "version": 3
   },
   "file_extension": ".py",
   "mimetype": "text/x-python",
   "name": "python",
   "nbconvert_exporter": "python",
   "pygments_lexer": "ipython3",
   "version": "3.12.2"
  }
 },
 "nbformat": 4,
 "nbformat_minor": 2
}

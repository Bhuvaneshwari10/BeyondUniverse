{
 "cells": [
  {
   "cell_type": "code",
   "execution_count": 11,
   "metadata": {},
   "outputs": [
    {
     "name": "stdout",
     "output_type": "stream",
     "text": [
      "hello world\n"
     ]
    }
   ],
   "source": [
    "print(\"hello world\")"
   ]
  },
  {
   "cell_type": "markdown",
   "metadata": {},
   "source": [
    "# A Decorator for finding the given  two values are integer and no two values should not be zero. "
   ]
  },
  {
   "cell_type": "code",
   "execution_count": 22,
   "metadata": {},
   "outputs": [],
   "source": [
    "def check_integers_and_nonzero(func):\n",
    "    def wrapper(num1, num2):\n",
    "        if not isinstance(num1, int) or not isinstance(num2, int):\n",
    "            print(\"Error: Both values must be integers!\")\n",
    "            return None\n",
    "        elif num1 == 0 or num2 == 0:\n",
    "            print(\"Error: Both values must be non-zero!\")\n",
    "            return None\n",
    "        else:\n",
    "            return func(num1, num2)\n",
    "    return wrapper"
   ]
  },
  {
   "cell_type": "code",
   "execution_count": 18,
   "metadata": {},
   "outputs": [],
   "source": [
    "@check_integers_and_nonzero\n",
    "def multiply_numbers(num1, num2):\n",
    "    return num1 * num2"
   ]
  },
  {
   "cell_type": "code",
   "execution_count": 20,
   "metadata": {},
   "outputs": [
    {
     "name": "stdout",
     "output_type": "stream",
     "text": [
      "Result 1: 15\n"
     ]
    }
   ],
   "source": [
    "# Example usage:\n",
    "result1 = multiply_numbers(5, 3)\n",
    "print(\"Result 1:\", result1)  # Result 1: 15"
   ]
  },
  {
   "cell_type": "code",
   "execution_count": 21,
   "metadata": {},
   "outputs": [
    {
     "name": "stdout",
     "output_type": "stream",
     "text": [
      "Error: Both values must be non-zero!\n",
      "Result 2: None\n"
     ]
    }
   ],
   "source": [
    "result2 = multiply_numbers(0, 10)\n",
    "print(\"Result 2:\", result2)  # Result 2: Error message printed and result set to None"
   ]
  },
  {
   "cell_type": "code",
   "execution_count": 16,
   "metadata": {},
   "outputs": [
    {
     "name": "stdout",
     "output_type": "stream",
     "text": [
      "Error: Both values must be integers!\n",
      "Result 3: None\n"
     ]
    }
   ],
   "source": [
    "result3 = multiply_numbers(7.5, 4)\n",
    "print(\"Result 3:\", result3)  # Result 3: Error message printed and result set to None\n"
   ]
  },
  {
   "cell_type": "markdown",
   "metadata": {},
   "source": [
    "    check_integers_and_nonzero is the decorator function that checks if both values are integers and ensures that neither value is zero before calling the decorated function.\n",
    "    multiply_numbers is the decorated function that performs multiplication.\n",
    "\n",
    "When multiply_numbers is called with valid arguments (integers and non-zero values), it performs the multiplication as expected. However, if either value is not an integer or if either value is zero, it prints an error message and returns None without performing the multiplication."
   ]
  },
  {
   "cell_type": "markdown",
   "metadata": {},
   "source": []
  }
 ],
 "metadata": {
  "kernelspec": {
   "display_name": "venv",
   "language": "python",
   "name": "python3"
  },
  "language_info": {
   "codemirror_mode": {
    "name": "ipython",
    "version": 3
   },
   "file_extension": ".py",
   "mimetype": "text/x-python",
   "name": "python",
   "nbconvert_exporter": "python",
   "pygments_lexer": "ipython3",
   "version": "3.12.2"
  }
 },
 "nbformat": 4,
 "nbformat_minor": 2
}

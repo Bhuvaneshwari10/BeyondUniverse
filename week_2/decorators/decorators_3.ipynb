{
 "cells": [
  {
   "cell_type": "code",
   "execution_count": 5,
   "metadata": {},
   "outputs": [
    {
     "name": "stdout",
     "output_type": "stream",
     "text": [
      "hello world\n"
     ]
    }
   ],
   "source": [
    "print(\"hello world\")"
   ]
  },
  {
   "cell_type": "code",
   "execution_count": 1,
   "metadata": {},
   "outputs": [],
   "source": [
    "def check_denominator(func):\n",
    "    def wrapper(num1, num2):\n",
    "        if num2 == 0:\n",
    "            print(\"Error: Denominator cannot be zero!\")\n",
    "            return None\n",
    "        else:\n",
    "            return func(num1, num2)\n",
    "    return wrapper\n",
    "\n"
   ]
  },
  {
   "cell_type": "code",
   "execution_count": 2,
   "metadata": {},
   "outputs": [],
   "source": [
    "@check_denominator\n",
    "def divide_numbers(num1, num2):\n",
    "    return num1 / num2"
   ]
  },
  {
   "cell_type": "code",
   "execution_count": 3,
   "metadata": {},
   "outputs": [
    {
     "name": "stdout",
     "output_type": "stream",
     "text": [
      "Result 1: 5.0\n"
     ]
    }
   ],
   "source": [
    "# Example usage:\n",
    "result1 = divide_numbers(10, 2)\n",
    "print(\"Result 1:\", result1)"
   ]
  },
  {
   "cell_type": "code",
   "execution_count": 4,
   "metadata": {},
   "outputs": [
    {
     "name": "stdout",
     "output_type": "stream",
     "text": [
      "Error: Denominator cannot be zero!\n",
      "Result 2: None\n"
     ]
    }
   ],
   "source": [
    "result2 = divide_numbers(8, 0)\n",
    "print(\"Result 2:\", result2)  # This will print an error message instead of performing division\n"
   ]
  },
  {
   "cell_type": "markdown",
   "metadata": {},
   "source": [
    "In this example:\n",
    "\n",
    "    check_denominator is the decorator function that checks if the denominator is zero before calling the decorated function.\n",
    "    divide_numbers is the decorated function that performs division.\n",
    "\n",
    "When divide_numbers is called with valid arguments (non-zero denominator), it performs the division as expected. However, if the denominator is zero, it prints an error message and returns None without performing the division."
   ]
  }
 ],
 "metadata": {
  "kernelspec": {
   "display_name": "venv",
   "language": "python",
   "name": "python3"
  },
  "language_info": {
   "codemirror_mode": {
    "name": "ipython",
    "version": 3
   },
   "file_extension": ".py",
   "mimetype": "text/x-python",
   "name": "python",
   "nbconvert_exporter": "python",
   "pygments_lexer": "ipython3",
   "version": "3.12.2"
  }
 },
 "nbformat": 4,
 "nbformat_minor": 2
}

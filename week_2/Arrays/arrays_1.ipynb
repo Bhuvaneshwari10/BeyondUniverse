{
 "cells": [
  {
   "cell_type": "code",
   "execution_count": 1,
   "metadata": {},
   "outputs": [
    {
     "name": "stdout",
     "output_type": "stream",
     "text": [
      "hello world\n"
     ]
    }
   ],
   "source": [
    "print(\"hello world\")"
   ]
  },
  {
   "cell_type": "markdown",
   "metadata": {},
   "source": [
    "Python doesn’t have explicit array data structure. It’s because we can do the same things with the List.\n",
    "\n",
    "The list contains a collection of items and it supports add/update/delete/search operations. That’s why there is not much use of a separate data structure in Python to support arrays.\n",
    "\n",
    "An array contains items of the same type but Python list allows elements of different types. This is the only feature wise difference between an array and a list. But it’s not a deal breaker and doesn’t warrant a new data structure support in Python.\n",
    "\n",
    "However, Python array module can be used to create an array like object for integer, float, and Unicode characters."
   ]
  },
  {
   "cell_type": "markdown",
   "metadata": {},
   "source": [
    "Python array Module\n",
    "\n",
    "Python array module allows us to create an array with constraint on the data types. There are only a few data types supported by this module.\n",
    "Python Array Supported Type CodePython Array Supported Type Code\n",
    "\n",
    "The Unicode type code has been deprecated in Python 3.3 and it will be removed in Python 4.0 release.\n",
    "\n",
    "Code\t\tC Type\t\tPython Type\t\tMin bytes\n",
    "\n",
    "b\t\tsigned char\t    int\t\t\t1\n",
    "\t\n",
    "\n",
    "B\t\tunsigned char\tint\t\t\t1\n",
    "\t\t\t\n",
    "u\t\tPy_UNICODE\t    Unicode\t\t\t2\n",
    "\t\t\t\n",
    "h\t\tsigned short\tint\t\t\t2\n",
    "\t\t\t\n",
    "H\t\tunsigned short\tint\t\t\t2\n",
    "\t\t\t\n",
    "i\t\tsigned int\t    int\t\t\t2\n",
    "\t\t\t\n",
    "I\t\tunsigned int\tint\t\t\t2\n",
    "\t\t\t\n",
    "l\t\tsigned long\t    int\t\t\t4\n",
    "\t\t\t\n",
    "L\t\tunsigned long\tint\t\t\t4\n",
    "\t\t\t\n",
    "f\t\tfloat\t\tfloat\t\t\t4\n",
    "\t\t\t\n",
    "d\t\tdouble\t\tfloat\t\t\t8\n",
    "\n",
    "So, we can create an array of integers and float using array module. Let’s get started with the array module and look at all the operations it provides."
   ]
  },
  {
   "cell_type": "markdown",
   "metadata": {},
   "source": [
    "### Creating an Array\n",
    "\n",
    "The syntax to create an array is array.array(typecode, values_list)."
   ]
  },
  {
   "cell_type": "code",
   "execution_count": 2,
   "metadata": {},
   "outputs": [],
   "source": [
    "import array\n",
    "\n",
    "# creating array\n",
    "int_array = array.array('i', [1, 2, 3, 4])\n",
    "\n",
    "float_array = array.array('f', [1.1, 2.2, 3.3, 4.4])\n",
    "\n",
    "# unicode array support is deprecated and will be deleted in Python 4\n",
    "unicode_array = array.array('u', ['\\u0394', '\\u2167', '\\u007B'])"
   ]
  },
  {
   "cell_type": "markdown",
   "metadata": {},
   "source": [
    "### Printing Array and its Type\n",
    "\n",
    "If we print the array object, it gives us information about the typecode and its elements. Let’s print the arrays created above and also print the object type using the type() built-in function."
   ]
  },
  {
   "cell_type": "code",
   "execution_count": 3,
   "metadata": {},
   "outputs": [
    {
     "name": "stdout",
     "output_type": "stream",
     "text": [
      "array('i', [1, 2, 3, 4]) <class 'array.array'>\n",
      "array('f', [1.100000023841858, 2.200000047683716, 3.299999952316284, 4.400000095367432]) <class 'array.array'>\n",
      "array('u', 'ΔⅧ{') <class 'array.array'>\n"
     ]
    }
   ],
   "source": [
    "# printing array\n",
    "print(int_array, type(int_array))\n",
    "print(float_array, type(float_array))\n",
    "print(unicode_array, type(unicode_array))\n"
   ]
  },
  {
   "cell_type": "markdown",
   "metadata": {},
   "source": [
    "Printing Array Elements\n",
    "\n",
    "We can print array elements using the for loop."
   ]
  },
  {
   "cell_type": "code",
   "execution_count": 5,
   "metadata": {},
   "outputs": [
    {
     "name": "stdout",
     "output_type": "stream",
     "text": [
      "1\n",
      "2\n",
      "3\n",
      "4\n"
     ]
    }
   ],
   "source": [
    "int_array = array.array('i', [1, 2, 3, 4])\n",
    "\n",
    "for a in int_array:\n",
    "    print(a)"
   ]
  },
  {
   "cell_type": "markdown",
   "metadata": {},
   "source": [
    "We can also access an element using its index. We can use the indices to print the array elements."
   ]
  },
  {
   "cell_type": "code",
   "execution_count": 6,
   "metadata": {},
   "outputs": [
    {
     "name": "stdout",
     "output_type": "stream",
     "text": [
      "int_array[0] = 1\n",
      "int_array[1] = 2\n",
      "int_array[2] = 3\n",
      "int_array[3] = 4\n"
     ]
    }
   ],
   "source": [
    "for b in range(0, len(int_array)):\n",
    "    print(f'int_array[{b}] = {int_array[b]}')"
   ]
  },
  {
   "cell_type": "code",
   "execution_count": 7,
   "metadata": {},
   "outputs": [
    {
     "name": "stdout",
     "output_type": "stream",
     "text": [
      "float_array[0] = 1.100000023841858\n",
      "float_array[1] = 2.200000047683716\n",
      "float_array[2] = 3.299999952316284\n",
      "float_array[3] = 4.400000095367432\n"
     ]
    }
   ],
   "source": [
    "for b in range(0, len(float_array)):\n",
    "    print(f'float_array[{b}] = {float_array[b]}')"
   ]
  },
  {
   "cell_type": "code",
   "execution_count": 8,
   "metadata": {},
   "outputs": [
    {
     "name": "stdout",
     "output_type": "stream",
     "text": [
      "unicode_array[0] = Δ\n",
      "unicode_array[1] = Ⅷ\n",
      "unicode_array[2] = {\n"
     ]
    }
   ],
   "source": [
    "for b in range(0, len(unicode_array)):\n",
    "    print(f'unicode_array[{b}] = {unicode_array[b]}')"
   ]
  },
  {
   "cell_type": "markdown",
   "metadata": {},
   "source": [
    "### Inserting and Appending Elements\n",
    "\n",
    "We can use the insert() function to insert an element at the specified index. The elements from the specified index are shifted to right by one position."
   ]
  },
  {
   "cell_type": "code",
   "execution_count": 9,
   "metadata": {},
   "outputs": [
    {
     "name": "stdout",
     "output_type": "stream",
     "text": [
      "array('i', [-1, 1, -2, 2, 3, 4])\n"
     ]
    }
   ],
   "source": [
    "int_array = array.array('i', [1, 2, 3, 4])\n",
    "int_array.insert(0, -1)  # -1,1,2,3,4\n",
    "int_array.insert(2, -2)  # -1,1,-2,2,3,4\n",
    "print(int_array)"
   ]
  },
  {
   "cell_type": "markdown",
   "metadata": {},
   "source": [
    "If you have to add an element at the end of the array, use append() function."
   ]
  },
  {
   "cell_type": "code",
   "execution_count": 10,
   "metadata": {},
   "outputs": [
    {
     "name": "stdout",
     "output_type": "stream",
     "text": [
      "array('i', [1, 2, 3, 4, -3])\n"
     ]
    }
   ],
   "source": [
    "int_array = array.array('i', [1, 2, 3, 4])\n",
    "int_array.append(-3)\n",
    "print(int_array)  # array('i', [1, 2, 3, 4, -3])"
   ]
  },
  {
   "cell_type": "markdown",
   "metadata": {},
   "source": [
    "### Python array supports negative index\n",
    "\n",
    "We can access python array elements through negative index too."
   ]
  },
  {
   "cell_type": "code",
   "execution_count": 11,
   "metadata": {},
   "outputs": [
    {
     "name": "stdout",
     "output_type": "stream",
     "text": [
      "70\n",
      "40\n"
     ]
    }
   ],
   "source": [
    "int_array = array.array('i', [10, 20, 30, 40, 50, 60, 70, 80])\n",
    "print(int_array[-2])  # 70\n",
    "print(int_array[-5])  # 40"
   ]
  },
  {
   "cell_type": "markdown",
   "metadata": {},
   "source": [
    "### Removing Array Elements\n",
    "\n",
    "We can use remove() method to remove an array element."
   ]
  },
  {
   "cell_type": "code",
   "execution_count": 12,
   "metadata": {},
   "outputs": [
    {
     "name": "stdout",
     "output_type": "stream",
     "text": [
      "array('i', [1, 3, 4])\n"
     ]
    }
   ],
   "source": [
    "int_array = array.array('i', [1, 2, 3, 4])\n",
    "int_array.remove(2)\n",
    "print(int_array)  # array('i', [1, 3, 4])"
   ]
  },
  {
   "cell_type": "markdown",
   "metadata": {},
   "source": [
    "#### If the element is not present in the array, ValueError is raised."
   ]
  },
  {
   "cell_type": "code",
   "execution_count": 13,
   "metadata": {},
   "outputs": [
    {
     "name": "stdout",
     "output_type": "stream",
     "text": [
      "array.remove(x): x not in array\n"
     ]
    }
   ],
   "source": [
    "int_array = array.array('i', [1, 2, 3, 4])\n",
    "try:\n",
    "    int_array.remove(20)\n",
    "except ValueError as ve:\n",
    "    print(ve)"
   ]
  },
  {
   "cell_type": "markdown",
   "metadata": {},
   "source": [
    "We can also use pop() function to remove an element at the given index. This function returns the element being removed from the array. If we don’t specify the index, the last element is removed and returned."
   ]
  },
  {
   "cell_type": "code",
   "execution_count": 14,
   "metadata": {},
   "outputs": [
    {
     "name": "stdout",
     "output_type": "stream",
     "text": [
      "4\n",
      "array('i', [1, 2, 3])\n",
      "2\n",
      "array('i', [1, 3])\n"
     ]
    }
   ],
   "source": [
    "int_array = array.array('i', [1, 2, 3, 4])\n",
    "last_element = int_array.pop()\n",
    "print(last_element)  # 4\n",
    "print(int_array)  # array('i', [1, 2, 3])\n",
    " \n",
    "second_element = int_array.pop(1)\n",
    "print(second_element)  # 2\n",
    "print(int_array)  # array('i', [1, 3])"
   ]
  },
  {
   "cell_type": "markdown",
   "metadata": {},
   "source": [
    "### Slicing an Array\n",
    "\n",
    "Python array supports slicing and returns a new array with the sub-elements. The original array remains unchanged. The slicing also supports negative indices."
   ]
  },
  {
   "cell_type": "code",
   "execution_count": 15,
   "metadata": {},
   "outputs": [
    {
     "name": "stdout",
     "output_type": "stream",
     "text": [
      "array('i', [3, 4, 5])\n",
      "array('i', [0, 1])\n",
      "array('i', [1, 2])\n",
      "array('i', [4, 5])\n",
      "array('i', [0, 1, 2, 3])\n"
     ]
    }
   ],
   "source": [
    "int_array = array.array('i', [0, 1, 2, 3, 4, 5])\n",
    "print(int_array[3:])  # array('i', [3, 4, 5])\n",
    "print(int_array[:2])  # array('i', [0, 1])\n",
    "print(int_array[1:3])  # array('i', [1, 2])\n",
    " \n",
    "# negative index slicing\n",
    "print(int_array[-2:])  # array('i', [4, 5])\n",
    "print(int_array[:-2])  # array('i', [0, 1, 2, 3])"
   ]
  },
  {
   "cell_type": "markdown",
   "metadata": {},
   "source": [
    "### Searching an Element in the Array\n",
    "\n",
    "We can use the index() function to find the index of first occurrence of an element. If the element is not present in the array, ValueError is raised."
   ]
  },
  {
   "cell_type": "code",
   "execution_count": 16,
   "metadata": {},
   "outputs": [
    {
     "name": "stdout",
     "output_type": "stream",
     "text": [
      "1 is found at index 1\n",
      "array.index(x): x not in array\n"
     ]
    }
   ],
   "source": [
    "int_array = array.array('i', [0, 1, 2, 3, 1, 2])\n",
    " \n",
    "print(f'1 is found at index {int_array.index(1)}')\n",
    "try:\n",
    "    print(int_array.index(20))\n",
    "except ValueError as ve:\n",
    "    print(ve)"
   ]
  },
  {
   "cell_type": "markdown",
   "metadata": {},
   "source": [
    "# Updating Value at Specified Index\n",
    "\n",
    "We can use the array index with the assignment operator to update the value at an index. If the index is invalid, IndexError is raised."
   ]
  },
  {
   "cell_type": "code",
   "execution_count": 17,
   "metadata": {},
   "outputs": [
    {
     "name": "stdout",
     "output_type": "stream",
     "text": [
      "array('i', [-1, -2, 2, 3, 1, 2])\n",
      "array assignment index out of range\n"
     ]
    }
   ],
   "source": [
    "int_array = array.array('i', [0, 1, 2, 3, 1, 2])\n",
    " \n",
    "int_array[0] = -1\n",
    "int_array[1] = -2\n",
    "print(int_array)\n",
    " \n",
    "try:\n",
    "    int_array[10] = -10\n",
    "except IndexError as ie:\n",
    "    print(ie)"
   ]
  },
  {
   "cell_type": "markdown",
   "metadata": {},
   "source": [
    "#### Reversing an Array\n",
    "\n",
    "We can use the reverse() function to reverse the array elements."
   ]
  },
  {
   "cell_type": "code",
   "execution_count": 18,
   "metadata": {},
   "outputs": [
    {
     "name": "stdout",
     "output_type": "stream",
     "text": [
      "array('i', [3, 2, 1, 0])\n"
     ]
    }
   ],
   "source": [
    "int_array = array.array('i', [0, 1, 2, 3])\n",
    "int_array.reverse()\n",
    "print(int_array)  # array('i', [3, 2, 1, 0])"
   ]
  },
  {
   "cell_type": "markdown",
   "metadata": {},
   "source": [
    "### Count of the Occurrence of an Element\n",
    "\n",
    "We can use the count() function to get the number of occurrences of a value in the array."
   ]
  },
  {
   "cell_type": "code",
   "execution_count": 19,
   "metadata": {},
   "outputs": [
    {
     "name": "stdout",
     "output_type": "stream",
     "text": [
      "2\n",
      "0\n"
     ]
    }
   ],
   "source": [
    "int_array = array.array('i', [0, 1, 1, 0])\n",
    "print(int_array.count(1))  # 2\n",
    "print(int_array.count(10))  # 0"
   ]
  },
  {
   "cell_type": "markdown",
   "metadata": {},
   "source": [
    "### Extending an Array by Appending an Iterable\n",
    "\n",
    "We can use the extend() function to append values from the iterable to the end of the array."
   ]
  },
  {
   "cell_type": "code",
   "execution_count": 20,
   "metadata": {},
   "outputs": [
    {
     "name": "stdout",
     "output_type": "stream",
     "text": [
      "array('i', [0, 1, 2, 3, 4])\n",
      "array('i', [2, 3, 4])\n",
      "array('i', [2, 3, 4, 1, 2])\n",
      "array('i', [1, 0, 2])\n"
     ]
    }
   ],
   "source": [
    "array1 = array.array('i', [0, 1])\n",
    "array2 = array.array('i', [2, 3, 4])\n",
    " \n",
    "array1.extend(array2)\n",
    "print(array1)  # array('i', [0, 1, 2, 3, 4])\n",
    " \n",
    "print(array2)  # array('i', [2, 3, 4])\n",
    "array2.extend([1, 2])\n",
    "print(array2)  # array('i', [2, 3, 4, 1, 2])\n",
    " \n",
    "array1 = array.array('i', [1])\n",
    "array1.extend(set([0,0,0,2]))\n",
    "print(array1)  # array('i', [1, 0, 2])"
   ]
  },
  {
   "cell_type": "markdown",
   "metadata": {},
   "source": [
    "### Converting Array to List\n",
    "\n",
    "We can use the tolist() function to convert an array to a list."
   ]
  },
  {
   "cell_type": "code",
   "execution_count": 21,
   "metadata": {},
   "outputs": [
    {
     "name": "stdout",
     "output_type": "stream",
     "text": [
      "[0, 1, 2, 3]\n"
     ]
    }
   ],
   "source": [
    "int_array = array.array('i', [0, 1, 2, 3])\n",
    "print(int_array.tolist())  # [0, 1, 2, 3]"
   ]
  },
  {
   "cell_type": "code",
   "execution_count": null,
   "metadata": {},
   "outputs": [],
   "source": []
  }
 ],
 "metadata": {
  "kernelspec": {
   "display_name": "venv",
   "language": "python",
   "name": "python3"
  },
  "language_info": {
   "codemirror_mode": {
    "name": "ipython",
    "version": 3
   },
   "file_extension": ".py",
   "mimetype": "text/x-python",
   "name": "python",
   "nbconvert_exporter": "python",
   "pygments_lexer": "ipython3",
   "version": "3.12.2"
  }
 },
 "nbformat": 4,
 "nbformat_minor": 2
}

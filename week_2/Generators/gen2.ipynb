{
 "cells": [
  {
   "cell_type": "code",
   "execution_count": 1,
   "metadata": {},
   "outputs": [
    {
     "name": "stdout",
     "output_type": "stream",
     "text": [
      "hello \n"
     ]
    }
   ],
   "source": [
    "print(\"hello \")"
   ]
  },
  {
   "cell_type": "code",
   "execution_count": 2,
   "metadata": {},
   "outputs": [],
   "source": [
    "def my_generator(n):\n",
    "\n",
    "    # initialize counter\n",
    "    value = 0\n",
    "\n",
    "    # loop until counter is less than n\n",
    "    while value < n:\n",
    "\n",
    "        # produce the current value of the counter\n",
    "        yield value\n",
    "\n",
    "        # increment the counter\n",
    "        value += 1\n",
    "\n"
   ]
  },
  {
   "cell_type": "code",
   "execution_count": 3,
   "metadata": {},
   "outputs": [
    {
     "name": "stdout",
     "output_type": "stream",
     "text": [
      "0\n",
      "1\n",
      "2\n"
     ]
    }
   ],
   "source": [
    "# iterate over the generator object produced by my_generator\n",
    "for value in my_generator(3):\n",
    "\n",
    "    # print each value produced by generator\n",
    "    print(value)"
   ]
  },
  {
   "cell_type": "code",
   "execution_count": 6,
   "metadata": {},
   "outputs": [
    {
     "data": {
      "text/plain": [
       "generator"
      ]
     },
     "execution_count": 6,
     "metadata": {},
     "output_type": "execute_result"
    }
   ],
   "source": [
    "type(my_generator(5))"
   ]
  },
  {
   "cell_type": "code",
   "execution_count": 7,
   "metadata": {},
   "outputs": [
    {
     "name": "stdout",
     "output_type": "stream",
     "text": [
      "Help on generator object:\n",
      "\n",
      "my_generator = class generator(object)\n",
      " |  Methods defined here:\n",
      " |\n",
      " |  __del__(...)\n",
      " |\n",
      " |  __getattribute__(self, name, /)\n",
      " |      Return getattr(self, name).\n",
      " |\n",
      " |  __iter__(self, /)\n",
      " |      Implement iter(self).\n",
      " |\n",
      " |  __next__(self, /)\n",
      " |      Implement next(self).\n",
      " |\n",
      " |  __repr__(self, /)\n",
      " |      Return repr(self).\n",
      " |\n",
      " |  __sizeof__(...)\n",
      " |      gen.__sizeof__() -> size of gen in memory, in bytes\n",
      " |\n",
      " |  close(...)\n",
      " |      close() -> raise GeneratorExit inside generator.\n",
      " |\n",
      " |  send(...)\n",
      " |      send(arg) -> send 'arg' into generator,\n",
      " |      return next yielded value or raise StopIteration.\n",
      " |\n",
      " |  throw(...)\n",
      " |      throw(value)\n",
      " |      throw(type[,value[,tb]])\n",
      " |\n",
      " |      Raise exception in generator, return next yielded value or raise\n",
      " |      StopIteration.\n",
      " |      the (type, val, tb) signature is deprecated,\n",
      " |      and may be removed in a future version of Python.\n",
      " |\n",
      " |  ----------------------------------------------------------------------\n",
      " |  Data descriptors defined here:\n",
      " |\n",
      " |  gi_code\n",
      " |\n",
      " |  gi_frame\n",
      " |\n",
      " |  gi_running\n",
      " |\n",
      " |  gi_suspended\n",
      " |\n",
      " |  gi_yieldfrom\n",
      " |      object being iterated by yield from, or None\n",
      "\n"
     ]
    }
   ],
   "source": [
    "help(my_generator(5))"
   ]
  },
  {
   "cell_type": "code",
   "execution_count": 9,
   "metadata": {},
   "outputs": [],
   "source": [
    "import sys\n",
    "\n",
    "def generate_five_integers(numbers_list):\n",
    "    start = 0\n",
    "    while start < len(numbers_list):\n",
    "        yield numbers_list[start:start+5]\n",
    "        start += 5\n",
    "\n",
    "# Example usage:\n",
    "numbers = [1, 2, 3, 4, 5, 6, 7, 8, 9, 10, 11, 12, 13]\n",
    "\n"
   ]
  },
  {
   "cell_type": "code",
   "execution_count": 10,
   "metadata": {},
   "outputs": [],
   "source": [
    "# Create an iterator using iter()\n",
    "gen_iter = iter(generate_five_integers(numbers))\n",
    "\n"
   ]
  },
  {
   "cell_type": "code",
   "execution_count": 16,
   "metadata": {},
   "outputs": [
    {
     "name": "stdout",
     "output_type": "stream",
     "text": [
      "No elements left.\n"
     ]
    }
   ],
   "source": [
    "# Use next() to get the first chunk of five integers\n",
    "try:\n",
    "    first_chunk = next(gen_iter)\n",
    "    print(\"First chunk of integers:\", repr(first_chunk))\n",
    "except StopIteration:\n",
    "    print(\"No elements left.\")\n",
    "\n"
   ]
  },
  {
   "cell_type": "code",
   "execution_count": 15,
   "metadata": {},
   "outputs": [
    {
     "name": "stdout",
     "output_type": "stream",
     "text": [
      "Size of the generator object: 208 bytes\n"
     ]
    }
   ],
   "source": [
    "# Calculate the size of the generator object using sys.getsizeof()\n",
    "gen_size = sys.getsizeof(gen_iter)\n",
    "print(\"Size of the generator object:\", gen_size, \"bytes\")\n"
   ]
  },
  {
   "cell_type": "code",
   "execution_count": null,
   "metadata": {},
   "outputs": [],
   "source": []
  },
  {
   "cell_type": "markdown",
   "metadata": {},
   "source": [
    "# general code"
   ]
  },
  {
   "cell_type": "code",
   "execution_count": 1,
   "metadata": {},
   "outputs": [],
   "source": [
    "# def infinite_sequence():\n",
    "#     num = 0\n",
    "#     while True:\n",
    "#         yield num\n",
    "#         num += 1"
   ]
  },
  {
   "cell_type": "code",
   "execution_count": 19,
   "metadata": {},
   "outputs": [],
   "source": [
    "def infinite_sequence():\n",
    "    num = 0\n",
    "    yield num\n",
    "    num += 1\n",
    "    yield num\n",
    "    num += 1\n",
    "    yield num\n",
    "    num += 1\n",
    "    yield num\n",
    "    num += 1\n",
    "    yield num\n",
    "    num += 1\n",
    "    yield num\n",
    "    num += 1\n",
    "    yield num"
   ]
  },
  {
   "cell_type": "code",
   "execution_count": 20,
   "metadata": {},
   "outputs": [
    {
     "name": "stdout",
     "output_type": "stream",
     "text": [
      "0\n",
      "1\n",
      "2\n",
      "3\n",
      "4\n",
      "5\n",
      "6\n"
     ]
    }
   ],
   "source": [
    "num = infinite_sequence()\n",
    "for num in num:\n",
    "    print(num)"
   ]
  },
  {
   "cell_type": "code",
   "execution_count": 21,
   "metadata": {},
   "outputs": [],
   "source": [
    "def infinite_sequence():\n",
    "    num = 0\n",
    "    while num !=20:\n",
    "        yield num\n",
    "        num += 1\n",
    "        "
   ]
  },
  {
   "cell_type": "code",
   "execution_count": 22,
   "metadata": {},
   "outputs": [
    {
     "name": "stdout",
     "output_type": "stream",
     "text": [
      "0\n",
      "1\n",
      "2\n",
      "3\n",
      "4\n",
      "5\n",
      "6\n",
      "7\n",
      "8\n",
      "9\n",
      "10\n",
      "11\n",
      "12\n",
      "13\n",
      "14\n",
      "15\n",
      "16\n",
      "17\n",
      "18\n",
      "19\n"
     ]
    }
   ],
   "source": [
    "num = infinite_sequence()\n",
    "for num in num:\n",
    "    print(num)"
   ]
  },
  {
   "cell_type": "code",
   "execution_count": 31,
   "metadata": {},
   "outputs": [],
   "source": [
    "def infinite_sequence():\n",
    "    num = 0\n",
    "    while True:\n",
    "        yield num\n",
    "        num += 1"
   ]
  },
  {
   "cell_type": "code",
   "execution_count": 32,
   "metadata": {},
   "outputs": [],
   "source": [
    "gen = infinite_sequence()"
   ]
  },
  {
   "cell_type": "code",
   "execution_count": 39,
   "metadata": {},
   "outputs": [
    {
     "data": {
      "text/plain": [
       "6"
      ]
     },
     "execution_count": 39,
     "metadata": {},
     "output_type": "execute_result"
    }
   ],
   "source": [
    "next(gen)"
   ]
  },
  {
   "cell_type": "code",
   "execution_count": 48,
   "metadata": {},
   "outputs": [
    {
     "name": "stdout",
     "output_type": "stream",
     "text": [
      "<generator object infinite_sequence at 0x0000014AC4514F40>\n"
     ]
    }
   ],
   "source": [
    "type(repr(gen))\n",
    "print(repr(gen))"
   ]
  },
  {
   "cell_type": "code",
   "execution_count": 41,
   "metadata": {},
   "outputs": [
    {
     "name": "stdout",
     "output_type": "stream",
     "text": [
      "Help on generator object:\n",
      "\n",
      "infinite_sequence = class generator(object)\n",
      " |  Methods defined here:\n",
      " |\n",
      " |  __del__(...)\n",
      " |\n",
      " |  __getattribute__(self, name, /)\n",
      " |      Return getattr(self, name).\n",
      " |\n",
      " |  __iter__(self, /)\n",
      " |      Implement iter(self).\n",
      " |\n",
      " |  __next__(self, /)\n",
      " |      Implement next(self).\n",
      " |\n",
      " |  __repr__(self, /)\n",
      " |      Return repr(self).\n",
      " |\n",
      " |  __sizeof__(...)\n",
      " |      gen.__sizeof__() -> size of gen in memory, in bytes\n",
      " |\n",
      " |  close(...)\n",
      " |      close() -> raise GeneratorExit inside generator.\n",
      " |\n",
      " |  send(...)\n",
      " |      send(arg) -> send 'arg' into generator,\n",
      " |      return next yielded value or raise StopIteration.\n",
      " |\n",
      " |  throw(...)\n",
      " |      throw(value)\n",
      " |      throw(type[,value[,tb]])\n",
      " |\n",
      " |      Raise exception in generator, return next yielded value or raise\n",
      " |      StopIteration.\n",
      " |      the (type, val, tb) signature is deprecated,\n",
      " |      and may be removed in a future version of Python.\n",
      " |\n",
      " |  ----------------------------------------------------------------------\n",
      " |  Data descriptors defined here:\n",
      " |\n",
      " |  gi_code\n",
      " |\n",
      " |  gi_frame\n",
      " |\n",
      " |  gi_running\n",
      " |\n",
      " |  gi_suspended\n",
      " |\n",
      " |  gi_yieldfrom\n",
      " |      object being iterated by yield from, or None\n",
      "\n"
     ]
    }
   ],
   "source": [
    "help(infinite_sequence())"
   ]
  },
  {
   "cell_type": "code",
   "execution_count": null,
   "metadata": {},
   "outputs": [],
   "source": []
  }
 ],
 "metadata": {
  "kernelspec": {
   "display_name": "venv",
   "language": "python",
   "name": "python3"
  },
  "language_info": {
   "codemirror_mode": {
    "name": "ipython",
    "version": 3
   },
   "file_extension": ".py",
   "mimetype": "text/x-python",
   "name": "python",
   "nbconvert_exporter": "python",
   "pygments_lexer": "ipython3",
   "version": "3.12.2"
  }
 },
 "nbformat": 4,
 "nbformat_minor": 2
}

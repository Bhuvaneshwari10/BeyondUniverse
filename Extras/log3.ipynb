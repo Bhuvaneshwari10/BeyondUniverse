{
 "cells": [
  {
   "cell_type": "code",
   "execution_count": 1,
   "metadata": {},
   "outputs": [
    {
     "name": "stdout",
     "output_type": "stream",
     "text": [
      "hello world\n"
     ]
    }
   ],
   "source": [
    "print(\"hello world\")"
   ]
  },
  {
   "cell_type": "code",
   "execution_count": 2,
   "metadata": {},
   "outputs": [
    {
     "name": "stderr",
     "output_type": "stream",
     "text": [
      "2024-03-27 14:41:17,239 - DEBUG - Starting the program\n",
      "2024-03-27 14:41:17,242 - DEBUG - This is a debug message\n",
      "2024-03-27 14:41:17,244 - INFO - This is an info message\n",
      "2024-03-27 14:41:17,245 - WARNING - This is a warning message\n",
      "2024-03-27 14:41:17,247 - ERROR - This is an error message\n",
      "2024-03-27 14:41:17,250 - CRITICAL - This is a critical message\n",
      "2024-03-27 14:41:24,257 - INFO - Sorted characters:   aceeehhilllmoow\n",
      "2024-03-27 14:41:24,259 - INFO - Sorted string:   aceeehhilllmoow\n",
      "2024-03-27 14:41:24,261 - DEBUG - End of the program\n"
     ]
    }
   ],
   "source": [
    "import logging\n",
    "\n",
    "# Configure logging\n",
    "logging.basicConfig(level=logging.DEBUG, format='%(asctime)s - %(levelname)s - %(message)s')\n",
    "\n",
    "# Create a logger\n",
    "logger = logging.getLogger(__name__)\n",
    "\n",
    "def sort_characters(input_str):\n",
    "    if not isinstance(input_str, str):\n",
    "        logger.error('Input is not a valid string.')\n",
    "        return None\n",
    "    \n",
    "    if not input_str:\n",
    "        logger.warning('Input string is empty.')\n",
    "        return input_str\n",
    "    \n",
    "    sorted_str = ''.join(sorted(input_str))\n",
    "    logger.info(f'Sorted characters: {sorted_str}')\n",
    "    return sorted_str\n",
    "\n",
    "def main():\n",
    "    logger.debug('Starting the program')\n",
    "    \n",
    "    # Simulate DEBUG level message\n",
    "    logger.debug('This is a debug message')\n",
    "    \n",
    "    # Simulate INFO level message\n",
    "    logger.info('This is an info message')\n",
    "    \n",
    "    # Simulate WARNING level message\n",
    "    logger.warning('This is a warning message')\n",
    "    \n",
    "    # Simulate ERROR level message\n",
    "    logger.error('This is an error message')\n",
    "    \n",
    "    # Simulate CRITICAL level message\n",
    "    logger.critical('This is a critical message')\n",
    "    \n",
    "    # Simulate INFO level message with sorting characters\n",
    "    input_str = input('Enter a string to sort characters: ')\n",
    "    sorted_str = sort_characters(input_str)\n",
    "\n",
    "    if sorted_str is not None:\n",
    "        logger.info(f'Sorted string: {sorted_str}')\n",
    "\n",
    "    logger.debug('End of the program')\n",
    "\n",
    "if __name__ == \"__main__\":\n",
    "    main()\n"
   ]
  },
  {
   "cell_type": "code",
   "execution_count": null,
   "metadata": {},
   "outputs": [],
   "source": []
  }
 ],
 "metadata": {
  "kernelspec": {
   "display_name": "venv",
   "language": "python",
   "name": "python3"
  },
  "language_info": {
   "codemirror_mode": {
    "name": "ipython",
    "version": 3
   },
   "file_extension": ".py",
   "mimetype": "text/x-python",
   "name": "python",
   "nbconvert_exporter": "python",
   "pygments_lexer": "ipython3",
   "version": "3.12.2"
  }
 },
 "nbformat": 4,
 "nbformat_minor": 2
}

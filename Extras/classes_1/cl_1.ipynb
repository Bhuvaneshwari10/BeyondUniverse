{
 "cells": [
  {
   "cell_type": "code",
   "execution_count": 1,
   "metadata": {},
   "outputs": [
    {
     "name": "stdout",
     "output_type": "stream",
     "text": [
      "helloworld\n"
     ]
    }
   ],
   "source": [
    "print(\"helloworld\")"
   ]
  },
  {
   "cell_type": "markdown",
   "metadata": {},
   "source": [
    "the variable names \n",
    "\n",
    "# name, __name, and __name__ serve different purposes and have different meanings:\n",
    "\n",
    "    name: This is a regular variable name that can be used to store any value. It does not have any special meaning in Python by default.\n",
    "\n",
    "    __name: This is a built-in variable in Python that is automatically set by the Python interpreter. When a Python script is executed, __name__ is set to \"__main__\" if the script is being run directly. If the script is being imported as a module into another script, __name__ is set to the name of the module.\n",
    "\n",
    "    __name__: This is a special method (dunder method) in Python that is used for special purposes, such as defining special methods for a class (e.g., __init__ for initialization). It is not typically used as a variable name, but rather as a method name.\n",
    "\n",
    "Here's a brief summary:\n",
    "\n",
    "    name: Regular variable name, can store any value.\n",
    "\n",
    "    __name: Built-in variable set by Python, used to determine if a script is being run directly or imported as a module.\n",
    "    \n",
    "    __name__: Special method used for defining special methods in classes, not typically used as a variable name."
   ]
  },
  {
   "cell_type": "markdown",
   "metadata": {},
   "source": [
    "In Python, the variables \n",
    "\n",
    "# age, __age, and __age__ have different meanings and conventions:\n",
    "\n",
    "    age: This is a regular variable name that can be used to store any value representing a person's age, for example.\n",
    "\n",
    "    __age: This is not a standard convention in Python. Using a double underscore (__) as a prefix for a variable name (without another double underscore at the end) is typically reserved for name mangling in classes. Name mangling is a mechanism used to avoid name clashes in subclasses. It is not typically used for regular variable names.\n",
    "\n",
    "    __age__: This naming convention is not commonly used for variables in Python. Double underscores at the beginning and end of a variable name (__variable__) are reserved for special variables or methods called \"magic\" methods or dunder methods. These methods have special meanings in Python classes, such as __init__ for initialization, __str__ for string representation, etc. Using this naming convention for a regular variable is not standard practice.\n",
    "\n",
    "Here's a summary:\n",
    "\n",
    "    age: Regular variable name, used for storing values like a person's age.\n",
    "\n",
    "    __age: Not a standard convention for variables, usually reserved for name mangling in classes.\n",
    "    \n",
    "    __age__: Not a common convention for variables, typically used for special methods in classes (dunder methods).\n",
    "\n",
    "It's important to follow Python naming conventions to write clear and readable code. If you need to store a person's age, using a variable name like age is appropriate and clear. Avoid using naming conventions like __age or __age__ for regular variables to prevent confusion"
   ]
  },
  {
   "cell_type": "markdown",
   "metadata": {},
   "source": [
    "an example Python program demonstrating the use of regular variables (age), name mangling (__age), and magic methods (__age__). However, please note that using __age and __age__ for regular variables is not a common practice in Python."
   ]
  },
  {
   "cell_type": "code",
   "execution_count": 2,
   "metadata": {},
   "outputs": [],
   "source": [
    "class Person:\n",
    "    def __init__(self, name, age):\n",
    "        self.name = name\n",
    "        self.__age = age  # Name mangling for age\n",
    "\n",
    "    def get_age(self):\n",
    "        return self.__age\n",
    "\n",
    "    def __str__(self):\n",
    "        return f\"{self.name} is {self.__age} years old.\"\n",
    "\n"
   ]
  },
  {
   "cell_type": "code",
   "execution_count": 3,
   "metadata": {},
   "outputs": [],
   "source": [
    "class AnotherPerson:\n",
    "    def __init__(self, name, age):\n",
    "        self.name = name\n",
    "        self.__age__ = age  # Using __age__ as a variable (not recommended)\n",
    "\n",
    "    def __str__(self):\n",
    "        return f\"{self.name} is {self.__age__} years old.\"\n",
    "\n",
    "\n"
   ]
  },
  {
   "cell_type": "code",
   "execution_count": 4,
   "metadata": {},
   "outputs": [
    {
     "name": "stdout",
     "output_type": "stream",
     "text": [
      "25\n",
      "Alice is 25 years old.\n",
      "Bob is 35 years old.\n"
     ]
    }
   ],
   "source": [
    "if __name__ == \"__main__\":\n",
    "    # Using regular variable age\n",
    "    age = 30\n",
    "\n",
    "    # Using name mangling for age\n",
    "    person1 = Person(\"Alice\", 25)\n",
    "    print(person1.get_age())  # Accessing age using a method\n",
    "    print(person1)  # Using __str__ method for string representation\n",
    "\n",
    "    # Using __age__ as a regular variable (not recommended)\n",
    "    another_person = AnotherPerson(\"Bob\", 35)\n",
    "    print(another_person)  # Using __str__ method for string representation\n"
   ]
  },
  {
   "cell_type": "markdown",
   "metadata": {},
   "source": [
    "In this example:\n",
    "\n",
    "    age: This is a regular variable used to store a person's age outside of classes.\n",
    "\n",
    "    __age: This is a variable using name mangling within the Person class, although it's not commonly used in this way.\n",
    "\n",
    "    __age__: This is used as a regular variable in the AnotherPerson class, which is not a recommended practice due to potential confusion with magic methods.\n",
    "    \n",
    "\n",
    "The Person class demonstrates name mangling for __age, and the AnotherPerson class shows the usage of __age__ as a regular variable, although this is not standard and may lead to confusion. It's important to follow Python naming conventions for clarity and readability in your code."
   ]
  },
  {
   "cell_type": "code",
   "execution_count": null,
   "metadata": {},
   "outputs": [],
   "source": []
  }
 ],
 "metadata": {
  "kernelspec": {
   "display_name": "venv",
   "language": "python",
   "name": "python3"
  },
  "language_info": {
   "codemirror_mode": {
    "name": "ipython",
    "version": 3
   },
   "file_extension": ".py",
   "mimetype": "text/x-python",
   "name": "python",
   "nbconvert_exporter": "python",
   "pygments_lexer": "ipython3",
   "version": "3.12.2"
  }
 },
 "nbformat": 4,
 "nbformat_minor": 2
}

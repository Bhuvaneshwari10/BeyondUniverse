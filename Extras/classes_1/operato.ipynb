{
 "cells": [
  {
   "cell_type": "code",
   "execution_count": 1,
   "metadata": {},
   "outputs": [
    {
     "name": "stdout",
     "output_type": "stream",
     "text": [
      "hello world.\n"
     ]
    }
   ],
   "source": [
    "print(\"hello world.\")"
   ]
  },
  {
   "cell_type": "markdown",
   "metadata": {},
   "source": [
    "# Operator Precedence in python.\n"
   ]
  },
  {
   "cell_type": "markdown",
   "metadata": {},
   "source": [
    "1) What is operator precedence in Python?\n",
    "Ans. Operator precedence is the order in which operators are evaluated in a Python expression. It determines the order of operations when an expression contains multiple operators.\n",
    "\n",
    "2) How are Python operator precedence rules determined?\n",
    "Ans. Python operator precedence rules are determined by the language specification, which defines the order in which operators are evaluated in an expression. Operators with higher precedence are evaluated before operators with lower precedence.\n",
    "\n",
    "3) Can operator precedence be overridden in Python?\n",
    "Ans. Yes, operator precedence can be overridden in Python using parentheses. By grouping expressions with parentheses, programmers can control the order of operations and override the default operator precedence rules.\n",
    "\n",
    "4) How does operator precedence affect the outcome of a Python expression?\n",
    "Ans. Operator precedence affects the outcome of a Python expression by determining the order in which operations are evaluated. Expressions that use multiple operators with different levels of precedence can produce unexpected results if the order of operations is not properly controlled.\n",
    "\n",
    "5) What are some common applications of Python operator precedence rules?\n",
    "Ans. Common applications of Python operator precedence rules include mathematical calculations, control flow, string manipulation, bitwise operations, and object-oriented programming. By understanding and using these rules effectively, programmers can write more efficient and effective code."
   ]
  },
  {
   "cell_type": "markdown",
   "metadata": {},
   "source": [
    "Operator precedence in python Similiar to BODMAS rule we follow for the mathematics in school days.\n",
    "\n",
    "\n",
    "    Parentheses have the highest precedence and can be used to force operations to be performed in a certain order.\n",
    "    Exponentiation (**) has the second highest precedence.\n",
    "    Unary operators (such as – and +) have the third highest precedence.\n",
    "    Multiplication, division, and floor division (*, /, and //) have the fourth highest precedence.\n",
    "    Addition and subtraction (+ and -) have the fifth highest precedence.\n",
    "    Bitwise operations (&, |, ^, <>) have the sixth highest precedence.\n",
    "    Comparison operators (, =, ==, and !=) have the seventh highest precedence.\n",
    "    Boolean operations (not, and, and or) have the eighth highest precedence.\n",
    "    Assignment operators (=, +=, -=, *=, /=, //=, %=, **=, &=, |=, ^=, <>=) have the lowest precedence.\n"
   ]
  },
  {
   "cell_type": "markdown",
   "metadata": {},
   "source": [
    "Python Operator Precedence Rule\n",
    "\n",
    "In Python, operator precedence rules specify the order in which operators are evaluated in an expression. Python has a well-defined set of operator precedence rules that determine the order in which arithmetic and logical operators are evaluated. Operators with higher precedence are evaluated first, and those with lower precedence are evaluated later.\n",
    "\n",
    "The following table lists Python’s operators in order of precedence, from highest to lowest:\n",
    "\n",
    "                  Operator \t                  Description\n",
    "\n",
    "                          ** \t                Exponentiation\n",
    "\n",
    "                        +x, -x \t              Positive, negative\n",
    "\n",
    "                      *, /, //, % \t      Multiplication, division, floor division, modulo\n",
    "\n",
    "                          +, – \t              Addition, subtraction\n",
    "\n",
    "                      <> \t                    Bitwise shift operators\n",
    "\n",
    "                          & \t                Bitwise AND\n",
    "\n",
    "                          ^ \t                Bitwise XOR\n",
    "\n",
    "                          I \t                 Bitwise OR\n",
    "\n",
    "                <, , >=, !=, == \t            Comparison operators\n",
    "\n",
    "                      is, is not \t            Identity operators\n",
    "\n",
    "                      in, not in \t            Membership operators\n",
    "\n",
    "                      not \t                  Logical NOT\n",
    "\n",
    "                      and \t                  Logical AND\n",
    "\n",
    "                      or \t                    Logical OR\n",
    "\n",
    "The * operator has the highest precedence, followed by the positive (+x) and negative (-x) operators. The multiplication (), division (/), floor division (//), and modulo (%) operators have the next highest precedence, followed by the addition (+) and subtraction (-) operators. The bitwise shift operators (<>) have lower precedence, followed by the bitwise AND (&), bitwise XOR (^), and bitwise OR (|) operators. The comparison operators (<, , >=, !=, and ==) have even lower precedence, followed by the identity operators (is and is not) and membership operators (in and not in). Finally, the logical NOT (!) operator has lower precedence than any other operator, followed by the logical AND (&&) and logical OR (||) operators.\n",
    "\n",
    "When evaluating an expression, Python will first evaluate any operators with higher precedence before evaluating those with lower precedence. If two operators have the same precedence, they are evaluated from left to right.\n",
    "\n",
    "Understanding operator precedence rules is important for writing correct and efficient code. By using parentheses to group expressions together and ensuring that operators are evaluated in the correct order, we can avoid errors and improve the readability of our code."
   ]
  },
  {
   "cell_type": "markdown",
   "metadata": {},
   "source": []
  }
 ],
 "metadata": {
  "kernelspec": {
   "display_name": "venv",
   "language": "python",
   "name": "python3"
  },
  "language_info": {
   "codemirror_mode": {
    "name": "ipython",
    "version": 3
   },
   "file_extension": ".py",
   "mimetype": "text/x-python",
   "name": "python",
   "nbconvert_exporter": "python",
   "pygments_lexer": "ipython3",
   "version": "3.12.2"
  }
 },
 "nbformat": 4,
 "nbformat_minor": 2
}

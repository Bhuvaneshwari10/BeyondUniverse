{
 "cells": [
  {
   "cell_type": "code",
   "execution_count": 1,
   "metadata": {},
   "outputs": [
    {
     "name": "stdout",
     "output_type": "stream",
     "text": [
      "helloo world\n"
     ]
    }
   ],
   "source": [
    "print(\"helloo world\")"
   ]
  },
  {
   "cell_type": "markdown",
   "metadata": {},
   "source": [
    "# Logging python:"
   ]
  },
  {
   "cell_type": "markdown",
   "metadata": {},
   "source": [
    "logging is a built-in module that provides a flexible framework for emitting log messages from your code. Logging is used to record relevant information about the events that occur during the execution of a program. Its main purpose is to help developers understand what is happening in the code at different stages of execution, especially during debugging, testing, and monitoring of applications.\n",
    "\n",
    "Here are some key aspects and purposes of logging in Python:\n",
    "\n",
    "    Debugging: One of the primary reasons for using logging is to debug code. By strategically placing log messages in your code, you can track the flow of execution, inspect variable values, and identify issues or unexpected behavior.\n",
    "\n",
    "    Error Tracking: Logging is crucial for tracking errors and exceptions in your program. When an error occurs, you can log relevant information such as the error message, stack trace, and context to diagnose and troubleshoot problems effectively.\n",
    "\n",
    "    Monitoring and Analysis: Logging helps in monitoring the performance and behavior of an application in production environments. By logging relevant metrics, events, and warnings, you can analyze trends, identify bottlenecks, and optimize performance.\n",
    "\n",
    "    Auditing and Compliance: In certain applications, logging is used for auditing purposes to track user actions, system events, and data changes. This is important for maintaining compliance with regulations and ensuring data integrity.\n",
    "\n",
    "    Verbosity Levels: Python's logging module supports different verbosity levels such as DEBUG, INFO, WARNING, ERROR, and CRITICAL. This allows developers to control the level of detail in log messages based on the importance or severity of events.\n",
    "\n",
    "    Flexibility and Customization: Logging in Python is highly customizable. Developers can configure loggers, handlers, formatters, and filters according to their specific requirements. This flexibility allows logging to be tailored to different application needs.\n",
    "\n",
    "Here's a basic example of logging in Python:"
   ]
  },
  {
   "cell_type": "code",
   "execution_count": 4,
   "metadata": {},
   "outputs": [],
   "source": [
    "import logging\n",
    "\n",
    "# Configure logging\n",
    "logging.basicConfig(level=logging.DEBUG, format='%(asctime)s - %(levelname)s - %(message)s')\n",
    "\n",
    "def divide(x, y):\n",
    "    try:\n",
    "        result = x / y\n",
    "    except ZeroDivisionError:\n",
    "        logging.error(\"Division by zero!\")\n",
    "    else:\n",
    "        logging.info(f\"Division result: {result}\")\n",
    "\n"
   ]
  },
  {
   "cell_type": "code",
   "execution_count": 3,
   "metadata": {},
   "outputs": [
    {
     "name": "stderr",
     "output_type": "stream",
     "text": [
      "2024-03-27 14:25:11,395 - INFO - Division result: 5.0\n",
      "2024-03-27 14:25:11,397 - ERROR - Division by zero!\n"
     ]
    }
   ],
   "source": [
    "divide(10, 2)\n",
    "divide(10, 0)\n"
   ]
  },
  {
   "cell_type": "code",
   "execution_count": 5,
   "metadata": {},
   "outputs": [
    {
     "name": "stderr",
     "output_type": "stream",
     "text": [
      "2024-03-27 14:29:59,885 - DEBUG - This is a debug message\n",
      "2024-03-27 14:29:59,886 - INFO - This is an info message\n",
      "2024-03-27 14:29:59,888 - WARNING - This is a warning message\n",
      "2024-03-27 14:29:59,888 - ERROR - This is an error message\n",
      "2024-03-27 14:29:59,888 - CRITICAL - This is a critical message\n"
     ]
    }
   ],
   "source": [
    "import logging\n",
    "\n",
    "# Configure logging\n",
    "logging.basicConfig(level=logging.DEBUG, format='%(asctime)s - %(levelname)s - %(message)s')\n",
    "\n",
    "# Create a logger\n",
    "logger = logging.getLogger(__name__)\n",
    "\n",
    "def main():\n",
    "    logger.debug('This is a debug message')\n",
    "    logger.info('This is an info message')\n",
    "    logger.warning('This is a warning message')\n",
    "    logger.error('This is an error message')\n",
    "    logger.critical('This is a critical message')\n",
    "\n",
    "if __name__ == \"__main__\":\n",
    "    main()\n"
   ]
  }
 ],
 "metadata": {
  "kernelspec": {
   "display_name": "venv",
   "language": "python",
   "name": "python3"
  },
  "language_info": {
   "codemirror_mode": {
    "name": "ipython",
    "version": 3
   },
   "file_extension": ".py",
   "mimetype": "text/x-python",
   "name": "python",
   "nbconvert_exporter": "python",
   "pygments_lexer": "ipython3",
   "version": "3.12.2"
  }
 },
 "nbformat": 4,
 "nbformat_minor": 2
}
